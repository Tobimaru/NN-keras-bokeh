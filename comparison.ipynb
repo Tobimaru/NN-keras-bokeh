{
 "cells": [
  {
   "cell_type": "markdown",
   "metadata": {},
   "source": [
    "## Neural network vs Gaussian Process on 1-D example\n",
    "\n",
    "This comparison illustrates the difference in concept between neural network and Gaussian process. As demonstrated in the \"1D-examples\" notebook, the neural network keeps the decision boundary simple (i.e. **linear**) while warping the data space to accomodate for the complexity in the data separation. In Gaussian processes, the decisison boundary itself is made flexible through expansion based on kernel-products, allowing it to adapt to the complexity in the data separation. \n",
    "\n",
    "Note that in the 1D-example the data is not linearly separable, but one could make a classification using a Gaussian distribution centered around zero (or any symmetric function).   "
   ]
  },
  {
   "cell_type": "code",
   "execution_count": 19,
   "metadata": {},
   "outputs": [],
   "source": [
    "import numpy as np\n",
    "from numpy.random import uniform\n",
    "\n",
    "from sklearn.gaussian_process import GaussianProcessClassifier\n",
    "from sklearn.gaussian_process.kernels import RBF\n",
    "\n",
    "from bokeh.layouts import column\n",
    "from bokeh.models import CustomJS, ColumnDataSource, Slider\n",
    "from bokeh.plotting import figure, output_notebook, show"
   ]
  },
  {
   "cell_type": "code",
   "execution_count": 8,
   "metadata": {},
   "outputs": [
    {
     "data": {
      "text/html": [
       "\n",
       "    <div class=\"bk-root\">\n",
       "        <a href=\"https://bokeh.pydata.org\" target=\"_blank\" class=\"bk-logo bk-logo-small bk-logo-notebook\"></a>\n",
       "        <span id=\"cd89dc26-baab-4e09-865d-ed210fd78d98\">Loading BokehJS ...</span>\n",
       "    </div>"
      ]
     },
     "metadata": {},
     "output_type": "display_data"
    },
    {
     "data": {
      "application/javascript": [
       "\n",
       "(function(root) {\n",
       "  function now() {\n",
       "    return new Date();\n",
       "  }\n",
       "\n",
       "  var force = true;\n",
       "\n",
       "  if (typeof (root._bokeh_onload_callbacks) === \"undefined\" || force === true) {\n",
       "    root._bokeh_onload_callbacks = [];\n",
       "    root._bokeh_is_loading = undefined;\n",
       "  }\n",
       "\n",
       "  var JS_MIME_TYPE = 'application/javascript';\n",
       "  var HTML_MIME_TYPE = 'text/html';\n",
       "  var EXEC_MIME_TYPE = 'application/vnd.bokehjs_exec.v0+json';\n",
       "  var CLASS_NAME = 'output_bokeh rendered_html';\n",
       "\n",
       "  /**\n",
       "   * Render data to the DOM node\n",
       "   */\n",
       "  function render(props, node) {\n",
       "    var script = document.createElement(\"script\");\n",
       "    node.appendChild(script);\n",
       "  }\n",
       "\n",
       "  /**\n",
       "   * Handle when an output is cleared or removed\n",
       "   */\n",
       "  function handleClearOutput(event, handle) {\n",
       "    var cell = handle.cell;\n",
       "\n",
       "    var id = cell.output_area._bokeh_element_id;\n",
       "    var server_id = cell.output_area._bokeh_server_id;\n",
       "    // Clean up Bokeh references\n",
       "    if (id !== undefined) {\n",
       "      Bokeh.index[id].model.document.clear();\n",
       "      delete Bokeh.index[id];\n",
       "    }\n",
       "\n",
       "    if (server_id !== undefined) {\n",
       "      // Clean up Bokeh references\n",
       "      var cmd = \"from bokeh.io.state import curstate; print(curstate().uuid_to_server['\" + server_id + \"'].get_sessions()[0].document.roots[0]._id)\";\n",
       "      cell.notebook.kernel.execute(cmd, {\n",
       "        iopub: {\n",
       "          output: function(msg) {\n",
       "            var element_id = msg.content.text.trim();\n",
       "            Bokeh.index[element_id].model.document.clear();\n",
       "            delete Bokeh.index[element_id];\n",
       "          }\n",
       "        }\n",
       "      });\n",
       "      // Destroy server and session\n",
       "      var cmd = \"import bokeh.io.notebook as ion; ion.destroy_server('\" + server_id + \"')\";\n",
       "      cell.notebook.kernel.execute(cmd);\n",
       "    }\n",
       "  }\n",
       "\n",
       "  /**\n",
       "   * Handle when a new output is added\n",
       "   */\n",
       "  function handleAddOutput(event, handle) {\n",
       "    var output_area = handle.output_area;\n",
       "    var output = handle.output;\n",
       "\n",
       "    // limit handleAddOutput to display_data with EXEC_MIME_TYPE content only\n",
       "    if ((output.output_type != \"display_data\") || (!output.data.hasOwnProperty(EXEC_MIME_TYPE))) {\n",
       "      return\n",
       "    }\n",
       "\n",
       "    var toinsert = output_area.element.find(`.${CLASS_NAME.split(' ')[0]}`);\n",
       "\n",
       "    if (output.metadata[EXEC_MIME_TYPE][\"id\"] !== undefined) {\n",
       "      toinsert[0].firstChild.textContent = output.data[JS_MIME_TYPE];\n",
       "      // store reference to embed id on output_area\n",
       "      output_area._bokeh_element_id = output.metadata[EXEC_MIME_TYPE][\"id\"];\n",
       "    }\n",
       "    if (output.metadata[EXEC_MIME_TYPE][\"server_id\"] !== undefined) {\n",
       "      var bk_div = document.createElement(\"div\");\n",
       "      bk_div.innerHTML = output.data[HTML_MIME_TYPE];\n",
       "      var script_attrs = bk_div.children[0].attributes;\n",
       "      for (var i = 0; i < script_attrs.length; i++) {\n",
       "        toinsert[0].firstChild.setAttribute(script_attrs[i].name, script_attrs[i].value);\n",
       "      }\n",
       "      // store reference to server id on output_area\n",
       "      output_area._bokeh_server_id = output.metadata[EXEC_MIME_TYPE][\"server_id\"];\n",
       "    }\n",
       "  }\n",
       "\n",
       "  function register_renderer(events, OutputArea) {\n",
       "\n",
       "    function append_mime(data, metadata, element) {\n",
       "      // create a DOM node to render to\n",
       "      var toinsert = this.create_output_subarea(\n",
       "        metadata,\n",
       "        CLASS_NAME,\n",
       "        EXEC_MIME_TYPE\n",
       "      );\n",
       "      this.keyboard_manager.register_events(toinsert);\n",
       "      // Render to node\n",
       "      var props = {data: data, metadata: metadata[EXEC_MIME_TYPE]};\n",
       "      render(props, toinsert[0]);\n",
       "      element.append(toinsert);\n",
       "      return toinsert\n",
       "    }\n",
       "\n",
       "    /* Handle when an output is cleared or removed */\n",
       "    events.on('clear_output.CodeCell', handleClearOutput);\n",
       "    events.on('delete.Cell', handleClearOutput);\n",
       "\n",
       "    /* Handle when a new output is added */\n",
       "    events.on('output_added.OutputArea', handleAddOutput);\n",
       "\n",
       "    /**\n",
       "     * Register the mime type and append_mime function with output_area\n",
       "     */\n",
       "    OutputArea.prototype.register_mime_type(EXEC_MIME_TYPE, append_mime, {\n",
       "      /* Is output safe? */\n",
       "      safe: true,\n",
       "      /* Index of renderer in `output_area.display_order` */\n",
       "      index: 0\n",
       "    });\n",
       "  }\n",
       "\n",
       "  // register the mime type if in Jupyter Notebook environment and previously unregistered\n",
       "  if (root.Jupyter !== undefined) {\n",
       "    var events = require('base/js/events');\n",
       "    var OutputArea = require('notebook/js/outputarea').OutputArea;\n",
       "\n",
       "    if (OutputArea.prototype.mime_types().indexOf(EXEC_MIME_TYPE) == -1) {\n",
       "      register_renderer(events, OutputArea);\n",
       "    }\n",
       "  }\n",
       "\n",
       "  \n",
       "  if (typeof (root._bokeh_timeout) === \"undefined\" || force === true) {\n",
       "    root._bokeh_timeout = Date.now() + 5000;\n",
       "    root._bokeh_failed_load = false;\n",
       "  }\n",
       "\n",
       "  var NB_LOAD_WARNING = {'data': {'text/html':\n",
       "     \"<div style='background-color: #fdd'>\\n\"+\n",
       "     \"<p>\\n\"+\n",
       "     \"BokehJS does not appear to have successfully loaded. If loading BokehJS from CDN, this \\n\"+\n",
       "     \"may be due to a slow or bad network connection. Possible fixes:\\n\"+\n",
       "     \"</p>\\n\"+\n",
       "     \"<ul>\\n\"+\n",
       "     \"<li>re-rerun `output_notebook()` to attempt to load from CDN again, or</li>\\n\"+\n",
       "     \"<li>use INLINE resources instead, as so:</li>\\n\"+\n",
       "     \"</ul>\\n\"+\n",
       "     \"<code>\\n\"+\n",
       "     \"from bokeh.resources import INLINE\\n\"+\n",
       "     \"output_notebook(resources=INLINE)\\n\"+\n",
       "     \"</code>\\n\"+\n",
       "     \"</div>\"}};\n",
       "\n",
       "  function display_loaded() {\n",
       "    var el = document.getElementById(\"cd89dc26-baab-4e09-865d-ed210fd78d98\");\n",
       "    if (el != null) {\n",
       "      el.textContent = \"BokehJS is loading...\";\n",
       "    }\n",
       "    if (root.Bokeh !== undefined) {\n",
       "      if (el != null) {\n",
       "        el.textContent = \"BokehJS \" + root.Bokeh.version + \" successfully loaded.\";\n",
       "      }\n",
       "    } else if (Date.now() < root._bokeh_timeout) {\n",
       "      setTimeout(display_loaded, 100)\n",
       "    }\n",
       "  }\n",
       "\n",
       "\n",
       "  function run_callbacks() {\n",
       "    try {\n",
       "      root._bokeh_onload_callbacks.forEach(function(callback) { callback() });\n",
       "    }\n",
       "    finally {\n",
       "      delete root._bokeh_onload_callbacks\n",
       "    }\n",
       "    console.info(\"Bokeh: all callbacks have finished\");\n",
       "  }\n",
       "\n",
       "  function load_libs(js_urls, callback) {\n",
       "    root._bokeh_onload_callbacks.push(callback);\n",
       "    if (root._bokeh_is_loading > 0) {\n",
       "      console.log(\"Bokeh: BokehJS is being loaded, scheduling callback at\", now());\n",
       "      return null;\n",
       "    }\n",
       "    if (js_urls == null || js_urls.length === 0) {\n",
       "      run_callbacks();\n",
       "      return null;\n",
       "    }\n",
       "    console.log(\"Bokeh: BokehJS not loaded, scheduling load and callback at\", now());\n",
       "    root._bokeh_is_loading = js_urls.length;\n",
       "    for (var i = 0; i < js_urls.length; i++) {\n",
       "      var url = js_urls[i];\n",
       "      var s = document.createElement('script');\n",
       "      s.src = url;\n",
       "      s.async = false;\n",
       "      s.onreadystatechange = s.onload = function() {\n",
       "        root._bokeh_is_loading--;\n",
       "        if (root._bokeh_is_loading === 0) {\n",
       "          console.log(\"Bokeh: all BokehJS libraries loaded\");\n",
       "          run_callbacks()\n",
       "        }\n",
       "      };\n",
       "      s.onerror = function() {\n",
       "        console.warn(\"failed to load library \" + url);\n",
       "      };\n",
       "      console.log(\"Bokeh: injecting script tag for BokehJS library: \", url);\n",
       "      document.getElementsByTagName(\"head\")[0].appendChild(s);\n",
       "    }\n",
       "  };var element = document.getElementById(\"cd89dc26-baab-4e09-865d-ed210fd78d98\");\n",
       "  if (element == null) {\n",
       "    console.log(\"Bokeh: ERROR: autoload.js configured with elementid 'cd89dc26-baab-4e09-865d-ed210fd78d98' but no matching script tag was found. \")\n",
       "    return false;\n",
       "  }\n",
       "\n",
       "  var js_urls = [\"https://cdn.pydata.org/bokeh/release/bokeh-0.12.10.min.js\", \"https://cdn.pydata.org/bokeh/release/bokeh-widgets-0.12.10.min.js\", \"https://cdn.pydata.org/bokeh/release/bokeh-tables-0.12.10.min.js\", \"https://cdn.pydata.org/bokeh/release/bokeh-gl-0.12.10.min.js\"];\n",
       "\n",
       "  var inline_js = [\n",
       "    function(Bokeh) {\n",
       "      Bokeh.set_log_level(\"info\");\n",
       "    },\n",
       "    \n",
       "    function(Bokeh) {\n",
       "      \n",
       "    },\n",
       "    function(Bokeh) {\n",
       "      console.log(\"Bokeh: injecting CSS: https://cdn.pydata.org/bokeh/release/bokeh-0.12.10.min.css\");\n",
       "      Bokeh.embed.inject_css(\"https://cdn.pydata.org/bokeh/release/bokeh-0.12.10.min.css\");\n",
       "      console.log(\"Bokeh: injecting CSS: https://cdn.pydata.org/bokeh/release/bokeh-widgets-0.12.10.min.css\");\n",
       "      Bokeh.embed.inject_css(\"https://cdn.pydata.org/bokeh/release/bokeh-widgets-0.12.10.min.css\");\n",
       "      console.log(\"Bokeh: injecting CSS: https://cdn.pydata.org/bokeh/release/bokeh-tables-0.12.10.min.css\");\n",
       "      Bokeh.embed.inject_css(\"https://cdn.pydata.org/bokeh/release/bokeh-tables-0.12.10.min.css\");\n",
       "    }\n",
       "  ];\n",
       "\n",
       "  function run_inline_js() {\n",
       "    \n",
       "    if ((root.Bokeh !== undefined) || (force === true)) {\n",
       "      for (var i = 0; i < inline_js.length; i++) {\n",
       "        inline_js[i].call(root, root.Bokeh);\n",
       "      }if (force === true) {\n",
       "        display_loaded();\n",
       "      }} else if (Date.now() < root._bokeh_timeout) {\n",
       "      setTimeout(run_inline_js, 100);\n",
       "    } else if (!root._bokeh_failed_load) {\n",
       "      console.log(\"Bokeh: BokehJS failed to load within specified timeout.\");\n",
       "      root._bokeh_failed_load = true;\n",
       "    } else if (force !== true) {\n",
       "      var cell = $(document.getElementById(\"cd89dc26-baab-4e09-865d-ed210fd78d98\")).parents('.cell').data().cell;\n",
       "      cell.output_area.append_execute_result(NB_LOAD_WARNING)\n",
       "    }\n",
       "\n",
       "  }\n",
       "\n",
       "  if (root._bokeh_is_loading === 0) {\n",
       "    console.log(\"Bokeh: BokehJS loaded, going straight to plotting\");\n",
       "    run_inline_js();\n",
       "  } else {\n",
       "    load_libs(js_urls, function() {\n",
       "      console.log(\"Bokeh: BokehJS plotting callback run at\", now());\n",
       "      run_inline_js();\n",
       "    });\n",
       "  }\n",
       "}(window));"
      ],
      "application/vnd.bokehjs_load.v0+json": "\n(function(root) {\n  function now() {\n    return new Date();\n  }\n\n  var force = true;\n\n  if (typeof (root._bokeh_onload_callbacks) === \"undefined\" || force === true) {\n    root._bokeh_onload_callbacks = [];\n    root._bokeh_is_loading = undefined;\n  }\n\n  \n\n  \n  if (typeof (root._bokeh_timeout) === \"undefined\" || force === true) {\n    root._bokeh_timeout = Date.now() + 5000;\n    root._bokeh_failed_load = false;\n  }\n\n  var NB_LOAD_WARNING = {'data': {'text/html':\n     \"<div style='background-color: #fdd'>\\n\"+\n     \"<p>\\n\"+\n     \"BokehJS does not appear to have successfully loaded. If loading BokehJS from CDN, this \\n\"+\n     \"may be due to a slow or bad network connection. Possible fixes:\\n\"+\n     \"</p>\\n\"+\n     \"<ul>\\n\"+\n     \"<li>re-rerun `output_notebook()` to attempt to load from CDN again, or</li>\\n\"+\n     \"<li>use INLINE resources instead, as so:</li>\\n\"+\n     \"</ul>\\n\"+\n     \"<code>\\n\"+\n     \"from bokeh.resources import INLINE\\n\"+\n     \"output_notebook(resources=INLINE)\\n\"+\n     \"</code>\\n\"+\n     \"</div>\"}};\n\n  function display_loaded() {\n    var el = document.getElementById(\"cd89dc26-baab-4e09-865d-ed210fd78d98\");\n    if (el != null) {\n      el.textContent = \"BokehJS is loading...\";\n    }\n    if (root.Bokeh !== undefined) {\n      if (el != null) {\n        el.textContent = \"BokehJS \" + root.Bokeh.version + \" successfully loaded.\";\n      }\n    } else if (Date.now() < root._bokeh_timeout) {\n      setTimeout(display_loaded, 100)\n    }\n  }\n\n\n  function run_callbacks() {\n    try {\n      root._bokeh_onload_callbacks.forEach(function(callback) { callback() });\n    }\n    finally {\n      delete root._bokeh_onload_callbacks\n    }\n    console.info(\"Bokeh: all callbacks have finished\");\n  }\n\n  function load_libs(js_urls, callback) {\n    root._bokeh_onload_callbacks.push(callback);\n    if (root._bokeh_is_loading > 0) {\n      console.log(\"Bokeh: BokehJS is being loaded, scheduling callback at\", now());\n      return null;\n    }\n    if (js_urls == null || js_urls.length === 0) {\n      run_callbacks();\n      return null;\n    }\n    console.log(\"Bokeh: BokehJS not loaded, scheduling load and callback at\", now());\n    root._bokeh_is_loading = js_urls.length;\n    for (var i = 0; i < js_urls.length; i++) {\n      var url = js_urls[i];\n      var s = document.createElement('script');\n      s.src = url;\n      s.async = false;\n      s.onreadystatechange = s.onload = function() {\n        root._bokeh_is_loading--;\n        if (root._bokeh_is_loading === 0) {\n          console.log(\"Bokeh: all BokehJS libraries loaded\");\n          run_callbacks()\n        }\n      };\n      s.onerror = function() {\n        console.warn(\"failed to load library \" + url);\n      };\n      console.log(\"Bokeh: injecting script tag for BokehJS library: \", url);\n      document.getElementsByTagName(\"head\")[0].appendChild(s);\n    }\n  };var element = document.getElementById(\"cd89dc26-baab-4e09-865d-ed210fd78d98\");\n  if (element == null) {\n    console.log(\"Bokeh: ERROR: autoload.js configured with elementid 'cd89dc26-baab-4e09-865d-ed210fd78d98' but no matching script tag was found. \")\n    return false;\n  }\n\n  var js_urls = [\"https://cdn.pydata.org/bokeh/release/bokeh-0.12.10.min.js\", \"https://cdn.pydata.org/bokeh/release/bokeh-widgets-0.12.10.min.js\", \"https://cdn.pydata.org/bokeh/release/bokeh-tables-0.12.10.min.js\", \"https://cdn.pydata.org/bokeh/release/bokeh-gl-0.12.10.min.js\"];\n\n  var inline_js = [\n    function(Bokeh) {\n      Bokeh.set_log_level(\"info\");\n    },\n    \n    function(Bokeh) {\n      \n    },\n    function(Bokeh) {\n      console.log(\"Bokeh: injecting CSS: https://cdn.pydata.org/bokeh/release/bokeh-0.12.10.min.css\");\n      Bokeh.embed.inject_css(\"https://cdn.pydata.org/bokeh/release/bokeh-0.12.10.min.css\");\n      console.log(\"Bokeh: injecting CSS: https://cdn.pydata.org/bokeh/release/bokeh-widgets-0.12.10.min.css\");\n      Bokeh.embed.inject_css(\"https://cdn.pydata.org/bokeh/release/bokeh-widgets-0.12.10.min.css\");\n      console.log(\"Bokeh: injecting CSS: https://cdn.pydata.org/bokeh/release/bokeh-tables-0.12.10.min.css\");\n      Bokeh.embed.inject_css(\"https://cdn.pydata.org/bokeh/release/bokeh-tables-0.12.10.min.css\");\n    }\n  ];\n\n  function run_inline_js() {\n    \n    if ((root.Bokeh !== undefined) || (force === true)) {\n      for (var i = 0; i < inline_js.length; i++) {\n        inline_js[i].call(root, root.Bokeh);\n      }if (force === true) {\n        display_loaded();\n      }} else if (Date.now() < root._bokeh_timeout) {\n      setTimeout(run_inline_js, 100);\n    } else if (!root._bokeh_failed_load) {\n      console.log(\"Bokeh: BokehJS failed to load within specified timeout.\");\n      root._bokeh_failed_load = true;\n    } else if (force !== true) {\n      var cell = $(document.getElementById(\"cd89dc26-baab-4e09-865d-ed210fd78d98\")).parents('.cell').data().cell;\n      cell.output_area.append_execute_result(NB_LOAD_WARNING)\n    }\n\n  }\n\n  if (root._bokeh_is_loading === 0) {\n    console.log(\"Bokeh: BokehJS loaded, going straight to plotting\");\n    run_inline_js();\n  } else {\n    load_libs(js_urls, function() {\n      console.log(\"Bokeh: BokehJS plotting callback run at\", now());\n      run_inline_js();\n    });\n  }\n}(window));"
     },
     "metadata": {},
     "output_type": "display_data"
    }
   ],
   "source": [
    "#embed figures in the notebook\n",
    "output_notebook()"
   ]
  },
  {
   "cell_type": "code",
   "execution_count": 9,
   "metadata": {},
   "outputs": [],
   "source": [
    "gaussProc = GaussianProcessClassifier(1.0 * RBF(1.0))"
   ]
  },
  {
   "cell_type": "markdown",
   "metadata": {},
   "source": [
    "Create the **training** data"
   ]
  },
  {
   "cell_type": "code",
   "execution_count": 10,
   "metadata": {},
   "outputs": [],
   "source": [
    "inner_bound = 1.0/3.0\n",
    "outer_bound = 2.0/3.0\n",
    "\n",
    "x1 = uniform(-inner_bound, inner_bound, 30)\n",
    "x2 = np.concatenate([uniform(-1.0, -outer_bound, 15), uniform(outer_bound, 1.0, 15)])"
   ]
  },
  {
   "cell_type": "code",
   "execution_count": 11,
   "metadata": {},
   "outputs": [
    {
     "data": {
      "text/html": [
       "\n",
       "<div class=\"bk-root\">\n",
       "    <div class=\"bk-plotdiv\" id=\"075728d4-9fcb-4f2e-9b97-0f810df49925\"></div>\n",
       "</div>"
      ]
     },
     "metadata": {},
     "output_type": "display_data"
    },
    {
     "data": {
      "application/javascript": [
       "(function(root) {\n",
       "  function embed_document(root) {\n",
       "    var docs_json = {\"a8e1fdc5-b240-4622-b16c-217fbeab8d9e\":{\"roots\":{\"references\":[{\"attributes\":{\"data_source\":{\"id\":\"f1ada7d4-a198-4f37-8dbf-556c87999e61\",\"type\":\"ColumnDataSource\"},\"glyph\":{\"id\":\"60691d60-d7ca-4e8a-a2aa-01e5523fc973\",\"type\":\"Circle\"},\"hover_glyph\":null,\"muted_glyph\":null,\"nonselection_glyph\":{\"id\":\"b274e4e8-b014-450d-872f-280c8965b846\",\"type\":\"Circle\"},\"selection_glyph\":null,\"view\":{\"id\":\"e0d22a1b-fb24-46af-9a2e-3ca500192ccb\",\"type\":\"CDSView\"}},\"id\":\"59e9e650-5283-4887-a58e-ddd9fc100db6\",\"type\":\"GlyphRenderer\"},{\"attributes\":{\"source\":{\"id\":\"f1ada7d4-a198-4f37-8dbf-556c87999e61\",\"type\":\"ColumnDataSource\"}},\"id\":\"e0d22a1b-fb24-46af-9a2e-3ca500192ccb\",\"type\":\"CDSView\"},{\"attributes\":{\"below\":[{\"id\":\"9351700c-86cf-4b94-9644-f4726f78ff8e\",\"type\":\"LinearAxis\"}],\"left\":[{\"id\":\"6e5fa52c-c7b6-4fa3-8822-d5e71a186238\",\"type\":\"LinearAxis\"}],\"plot_height\":100,\"plot_width\":400,\"renderers\":[{\"id\":\"9351700c-86cf-4b94-9644-f4726f78ff8e\",\"type\":\"LinearAxis\"},{\"id\":\"c3e28af6-5e92-4f7e-92eb-183b70d998c8\",\"type\":\"Grid\"},{\"id\":\"6e5fa52c-c7b6-4fa3-8822-d5e71a186238\",\"type\":\"LinearAxis\"},{\"id\":\"d9931248-c27c-4bb9-9e1b-61692fdcbe6b\",\"type\":\"Grid\"},{\"id\":\"77488ba9-b6c0-4d85-b6b9-dcd1a9230daa\",\"type\":\"BoxAnnotation\"},{\"id\":\"4f2b62ac-82fc-4238-906b-14ddf3360261\",\"type\":\"GlyphRenderer\"},{\"id\":\"59e9e650-5283-4887-a58e-ddd9fc100db6\",\"type\":\"GlyphRenderer\"}],\"title\":{\"id\":\"0336ae32-726f-46bb-b08e-8ed275b3e053\",\"type\":\"Title\"},\"toolbar\":{\"id\":\"4eb1defb-cb60-4209-aa4f-892fdab755b5\",\"type\":\"Toolbar\"},\"x_range\":{\"id\":\"7b0680dc-da32-407e-bb88-e4071f93ba31\",\"type\":\"DataRange1d\"},\"x_scale\":{\"id\":\"b63b45e2-de4b-430d-a35b-80cd6a9c8e03\",\"type\":\"LinearScale\"},\"y_range\":{\"id\":\"2ad08fb8-903c-4e86-bf83-a27ea478c174\",\"type\":\"DataRange1d\"},\"y_scale\":{\"id\":\"273ada72-5a39-4c95-8039-683fd793bcd1\",\"type\":\"LinearScale\"}},\"id\":\"2d125e6a-2448-4ccb-88a8-b330a4dc18ab\",\"subtype\":\"Figure\",\"type\":\"Plot\"},{\"attributes\":{\"callback\":null,\"column_names\":[\"x\",\"y\"],\"data\":{\"x\":{\"__ndarray__\":\"UO7W+EfBsj+u2tJfLNzJPwiLjtHv29S/ajQ24Q97u79ODPRVL8nIP2zvF4C4J78/jpeh8Up+zT/ApPrFM2a2v1Dl8ZjZkpE/FqtQJctY0b/6P2vpwO7MP+SrJClFk76/FRRQqbv00z85LvDp6vnQv/p5J8FSgsg/lrBe0/guyj/cpn/gUaa6P0vfYlNFRNI/J53wm1w60j8g4sP8Yo+wP5U83lHK6tK/gOgd4xOEaz+AwbhYrGmLP0Bgr+Iv05G/SbWx84ef07/C7joeWa7Uvyh9PLNN98q/qqBdJmhKwb9Eq7npbsa9v/yoRQMDEb4/\",\"dtype\":\"float64\",\"shape\":[30]},\"y\":{\"__ndarray__\":\"AAAAAAAAAAAAAAAAAAAAAAAAAAAAAAAAAAAAAAAAAAAAAAAAAAAAAAAAAAAAAAAAAAAAAAAAAAAAAAAAAAAAAAAAAAAAAAAAAAAAAAAAAAAAAAAAAAAAAAAAAAAAAAAAAAAAAAAAAAAAAAAAAAAAAAAAAAAAAAAAAAAAAAAAAAAAAAAAAAAAAAAAAAAAAAAAAAAAAAAAAAAAAAAAAAAAAAAAAAAAAAAAAAAAAAAAAAAAAAAAAAAAAAAAAAAAAAAAAAAAAAAAAAAAAAAAAAAAAAAAAAAAAAAAAAAAAAAAAAAAAAAAAAAAAAAAAAAAAAAA\",\"dtype\":\"float64\",\"shape\":[30]}}},\"id\":\"7fded427-f966-442b-9df7-e3e8faa8b32b\",\"type\":\"ColumnDataSource\"},{\"attributes\":{\"active_drag\":\"auto\",\"active_inspect\":\"auto\",\"active_scroll\":\"auto\",\"active_tap\":\"auto\",\"tools\":[{\"id\":\"3be9e12c-b9e9-4517-bf75-e9da299ced0a\",\"type\":\"PanTool\"},{\"id\":\"58e6eeed-b188-4285-ac8d-4fc629a756ab\",\"type\":\"WheelZoomTool\"},{\"id\":\"2e9494ca-1ed0-4173-929d-277ad3312a2c\",\"type\":\"BoxZoomTool\"},{\"id\":\"2ba8c026-2fba-4d74-877f-e7c5ca48540c\",\"type\":\"SaveTool\"},{\"id\":\"b55a50d1-f929-49ab-bab1-4ab54906c2b0\",\"type\":\"ResetTool\"},{\"id\":\"24ed2f67-4cfc-491f-adc1-fb543c18e15b\",\"type\":\"HelpTool\"}]},\"id\":\"4eb1defb-cb60-4209-aa4f-892fdab755b5\",\"type\":\"Toolbar\"},{\"attributes\":{\"callback\":null},\"id\":\"7b0680dc-da32-407e-bb88-e4071f93ba31\",\"type\":\"DataRange1d\"},{\"attributes\":{\"fill_alpha\":{\"value\":0.5},\"fill_color\":{\"value\":\"blue\"},\"line_alpha\":{\"value\":0.5},\"line_color\":{\"value\":\"blue\"},\"size\":{\"units\":\"screen\",\"value\":20},\"x\":{\"field\":\"x\"},\"y\":{\"field\":\"y\"}},\"id\":\"60691d60-d7ca-4e8a-a2aa-01e5523fc973\",\"type\":\"Circle\"},{\"attributes\":{\"callback\":null},\"id\":\"2ad08fb8-903c-4e86-bf83-a27ea478c174\",\"type\":\"DataRange1d\"},{\"attributes\":{},\"id\":\"b63b45e2-de4b-430d-a35b-80cd6a9c8e03\",\"type\":\"LinearScale\"},{\"attributes\":{},\"id\":\"273ada72-5a39-4c95-8039-683fd793bcd1\",\"type\":\"LinearScale\"},{\"attributes\":{\"plot\":{\"id\":\"2d125e6a-2448-4ccb-88a8-b330a4dc18ab\",\"subtype\":\"Figure\",\"type\":\"Plot\"},\"ticker\":{\"id\":\"682d481b-0e64-4f0f-970f-c4e98ae4dd10\",\"type\":\"BasicTicker\"}},\"id\":\"c3e28af6-5e92-4f7e-92eb-183b70d998c8\",\"type\":\"Grid\"},{\"attributes\":{\"formatter\":{\"id\":\"5ce34eec-eef3-42a4-80e1-2e51366e4129\",\"type\":\"BasicTickFormatter\"},\"plot\":{\"id\":\"2d125e6a-2448-4ccb-88a8-b330a4dc18ab\",\"subtype\":\"Figure\",\"type\":\"Plot\"},\"ticker\":{\"id\":\"682d481b-0e64-4f0f-970f-c4e98ae4dd10\",\"type\":\"BasicTicker\"}},\"id\":\"9351700c-86cf-4b94-9644-f4726f78ff8e\",\"type\":\"LinearAxis\"},{\"attributes\":{\"overlay\":{\"id\":\"77488ba9-b6c0-4d85-b6b9-dcd1a9230daa\",\"type\":\"BoxAnnotation\"}},\"id\":\"2e9494ca-1ed0-4173-929d-277ad3312a2c\",\"type\":\"BoxZoomTool\"},{\"attributes\":{},\"id\":\"2ba8c026-2fba-4d74-877f-e7c5ca48540c\",\"type\":\"SaveTool\"},{\"attributes\":{},\"id\":\"b55a50d1-f929-49ab-bab1-4ab54906c2b0\",\"type\":\"ResetTool\"},{\"attributes\":{},\"id\":\"24ed2f67-4cfc-491f-adc1-fb543c18e15b\",\"type\":\"HelpTool\"},{\"attributes\":{\"fill_alpha\":{\"value\":0.5},\"fill_color\":{\"value\":\"red\"},\"line_alpha\":{\"value\":0.5},\"line_color\":{\"value\":\"red\"},\"size\":{\"units\":\"screen\",\"value\":20},\"x\":{\"field\":\"x\"},\"y\":{\"field\":\"y\"}},\"id\":\"a6274c2b-6723-4934-b945-3cc6d13f7748\",\"type\":\"Circle\"},{\"attributes\":{\"formatter\":{\"id\":\"60877184-3782-48cb-9d66-4275b07db91c\",\"type\":\"BasicTickFormatter\"},\"plot\":{\"id\":\"2d125e6a-2448-4ccb-88a8-b330a4dc18ab\",\"subtype\":\"Figure\",\"type\":\"Plot\"},\"ticker\":{\"id\":\"60e505c3-6955-4874-999f-972da5f7d11b\",\"type\":\"BasicTicker\"}},\"id\":\"6e5fa52c-c7b6-4fa3-8822-d5e71a186238\",\"type\":\"LinearAxis\"},{\"attributes\":{},\"id\":\"60e505c3-6955-4874-999f-972da5f7d11b\",\"type\":\"BasicTicker\"},{\"attributes\":{\"dimension\":1,\"plot\":{\"id\":\"2d125e6a-2448-4ccb-88a8-b330a4dc18ab\",\"subtype\":\"Figure\",\"type\":\"Plot\"},\"ticker\":{\"id\":\"60e505c3-6955-4874-999f-972da5f7d11b\",\"type\":\"BasicTicker\"}},\"id\":\"d9931248-c27c-4bb9-9e1b-61692fdcbe6b\",\"type\":\"Grid\"},{\"attributes\":{\"bottom_units\":\"screen\",\"fill_alpha\":{\"value\":0.5},\"fill_color\":{\"value\":\"lightgrey\"},\"left_units\":\"screen\",\"level\":\"overlay\",\"line_alpha\":{\"value\":1.0},\"line_color\":{\"value\":\"black\"},\"line_dash\":[4,4],\"line_width\":{\"value\":2},\"plot\":null,\"render_mode\":\"css\",\"right_units\":\"screen\",\"top_units\":\"screen\"},\"id\":\"77488ba9-b6c0-4d85-b6b9-dcd1a9230daa\",\"type\":\"BoxAnnotation\"},{\"attributes\":{\"fill_alpha\":{\"value\":0.1},\"fill_color\":{\"value\":\"#1f77b4\"},\"line_alpha\":{\"value\":0.1},\"line_color\":{\"value\":\"#1f77b4\"},\"size\":{\"units\":\"screen\",\"value\":20},\"x\":{\"field\":\"x\"},\"y\":{\"field\":\"y\"}},\"id\":\"f499410c-8860-4741-810b-6c499c930062\",\"type\":\"Circle\"},{\"attributes\":{\"data_source\":{\"id\":\"7fded427-f966-442b-9df7-e3e8faa8b32b\",\"type\":\"ColumnDataSource\"},\"glyph\":{\"id\":\"a6274c2b-6723-4934-b945-3cc6d13f7748\",\"type\":\"Circle\"},\"hover_glyph\":null,\"muted_glyph\":null,\"nonselection_glyph\":{\"id\":\"f499410c-8860-4741-810b-6c499c930062\",\"type\":\"Circle\"},\"selection_glyph\":null,\"view\":{\"id\":\"fbe632f6-fb2b-4f1b-9c7e-14d7ba34ff1f\",\"type\":\"CDSView\"}},\"id\":\"4f2b62ac-82fc-4238-906b-14ddf3360261\",\"type\":\"GlyphRenderer\"},{\"attributes\":{\"callback\":null,\"column_names\":[\"x\",\"y\"],\"data\":{\"x\":{\"__ndarray__\":\"QrSQ9CYR6780PzU4eULsv8ekAo3oSum/9L0+3GXI77+emaDZ+j/nvxpp175f9ei/mBM2lCn95b/Tbck4eFntvwkIK2Wm8eu/uzWFQxt067/W3a+05a/nv3SUGH+UKOa/SvJXnIF/6r8apRFitCjmv22rcV2r++m/8ALjGgC46T/cekA0v4HtP/SN6iwVFuY/iLKc2OsK7z8hnMDRG4TlP8xURyg9Xew/bJcaf7gs7D8nBEeZd77uP1q2XMUVqek/E9SF0Khk5j8CxMifWVvvP0xsvM5Liu0/PF8JZGDW7D+/mVHk5/DrP/KEw8oW+ek/\",\"dtype\":\"float64\",\"shape\":[30]},\"y\":{\"__ndarray__\":\"AAAAAAAAAAAAAAAAAAAAAAAAAAAAAAAAAAAAAAAAAAAAAAAAAAAAAAAAAAAAAAAAAAAAAAAAAAAAAAAAAAAAAAAAAAAAAAAAAAAAAAAAAAAAAAAAAAAAAAAAAAAAAAAAAAAAAAAAAAAAAAAAAAAAAAAAAAAAAAAAAAAAAAAAAAAAAAAAAAAAAAAAAAAAAAAAAAAAAAAAAAAAAAAAAAAAAAAAAAAAAAAAAAAAAAAAAAAAAAAAAAAAAAAAAAAAAAAAAAAAAAAAAAAAAAAAAAAAAAAAAAAAAAAAAAAAAAAAAAAAAAAAAAAAAAAAAAAAAAAA\",\"dtype\":\"float64\",\"shape\":[30]}}},\"id\":\"f1ada7d4-a198-4f37-8dbf-556c87999e61\",\"type\":\"ColumnDataSource\"},{\"attributes\":{},\"id\":\"3be9e12c-b9e9-4517-bf75-e9da299ced0a\",\"type\":\"PanTool\"},{\"attributes\":{},\"id\":\"58e6eeed-b188-4285-ac8d-4fc629a756ab\",\"type\":\"WheelZoomTool\"},{\"attributes\":{},\"id\":\"682d481b-0e64-4f0f-970f-c4e98ae4dd10\",\"type\":\"BasicTicker\"},{\"attributes\":{},\"id\":\"60877184-3782-48cb-9d66-4275b07db91c\",\"type\":\"BasicTickFormatter\"},{\"attributes\":{\"source\":{\"id\":\"7fded427-f966-442b-9df7-e3e8faa8b32b\",\"type\":\"ColumnDataSource\"}},\"id\":\"fbe632f6-fb2b-4f1b-9c7e-14d7ba34ff1f\",\"type\":\"CDSView\"},{\"attributes\":{\"fill_alpha\":{\"value\":0.1},\"fill_color\":{\"value\":\"#1f77b4\"},\"line_alpha\":{\"value\":0.1},\"line_color\":{\"value\":\"#1f77b4\"},\"size\":{\"units\":\"screen\",\"value\":20},\"x\":{\"field\":\"x\"},\"y\":{\"field\":\"y\"}},\"id\":\"b274e4e8-b014-450d-872f-280c8965b846\",\"type\":\"Circle\"},{\"attributes\":{},\"id\":\"5ce34eec-eef3-42a4-80e1-2e51366e4129\",\"type\":\"BasicTickFormatter\"},{\"attributes\":{\"plot\":null,\"text\":\"\"},\"id\":\"0336ae32-726f-46bb-b08e-8ed275b3e053\",\"type\":\"Title\"}],\"root_ids\":[\"2d125e6a-2448-4ccb-88a8-b330a4dc18ab\"]},\"title\":\"Bokeh Application\",\"version\":\"0.12.10\"}};\n",
       "    var render_items = [{\"docid\":\"a8e1fdc5-b240-4622-b16c-217fbeab8d9e\",\"elementid\":\"075728d4-9fcb-4f2e-9b97-0f810df49925\",\"modelid\":\"2d125e6a-2448-4ccb-88a8-b330a4dc18ab\"}];\n",
       "\n",
       "    root.Bokeh.embed.embed_items(docs_json, render_items);\n",
       "  }\n",
       "\n",
       "  if (root.Bokeh !== undefined) {\n",
       "    embed_document(root);\n",
       "  } else {\n",
       "    var attempts = 0;\n",
       "    var timer = setInterval(function(root) {\n",
       "      if (root.Bokeh !== undefined) {\n",
       "        embed_document(root);\n",
       "        clearInterval(timer);\n",
       "      }\n",
       "      attempts++;\n",
       "      if (attempts > 100) {\n",
       "        console.log(\"Bokeh: ERROR: Unable to embed document because BokehJS library is missing\")\n",
       "        clearInterval(timer);\n",
       "      }\n",
       "    }, 10, root)\n",
       "  }\n",
       "})(window);"
      ],
      "application/vnd.bokehjs_exec.v0+json": ""
     },
     "metadata": {
      "application/vnd.bokehjs_exec.v0+json": {
       "id": "2d125e6a-2448-4ccb-88a8-b330a4dc18ab"
      }
     },
     "output_type": "display_data"
    }
   ],
   "source": [
    "p = figure(plot_width=400, plot_height=100)\n",
    "p.circle(x1, np.zeros(x1.shape), size=20, color=\"red\", alpha=0.5)\n",
    "p.circle(x2, np.zeros(x2.shape), size=20, color=\"blue\", alpha=0.5)\n",
    "show(p)"
   ]
  },
  {
   "cell_type": "code",
   "execution_count": 12,
   "metadata": {
    "collapsed": true
   },
   "outputs": [],
   "source": [
    "label1 = np.zeros(x1.shape)\n",
    "label2 = np.ones(x2.shape)\n",
    "\n",
    "x = np.concatenate([x1, x2])\n",
    "labels = np.concatenate([label1, label2])"
   ]
  },
  {
   "cell_type": "code",
   "execution_count": 30,
   "metadata": {
    "collapsed": true
   },
   "outputs": [],
   "source": [
    "x_test = np.linspace(-2.0, 2.0, num=100)"
   ]
  },
  {
   "cell_type": "markdown",
   "metadata": {},
   "source": [
    "Classify using Gaussian process"
   ]
  },
  {
   "cell_type": "code",
   "execution_count": 31,
   "metadata": {
    "scrolled": true
   },
   "outputs": [
    {
     "data": {
      "text/plain": [
       "GaussianProcessClassifier(copy_X_train=True,\n",
       "             kernel=1**2 * RBF(length_scale=1), max_iter_predict=100,\n",
       "             multi_class='one_vs_rest', n_jobs=1, n_restarts_optimizer=0,\n",
       "             optimizer='fmin_l_bfgs_b', random_state=None,\n",
       "             warm_start=False)"
      ]
     },
     "execution_count": 31,
     "metadata": {},
     "output_type": "execute_result"
    }
   ],
   "source": [
    "gaussProc.fit(x.reshape(-1,1), labels)"
   ]
  },
  {
   "cell_type": "markdown",
   "metadata": {},
   "source": [
    "Create the **test** data and predict."
   ]
  },
  {
   "cell_type": "code",
   "execution_count": 32,
   "metadata": {},
   "outputs": [],
   "source": [
    "labels_test = gaussProc.predict(x_test.reshape(-1,1))"
   ]
  },
  {
   "cell_type": "code",
   "execution_count": 33,
   "metadata": {},
   "outputs": [
    {
     "data": {
      "text/html": [
       "\n",
       "<div class=\"bk-root\">\n",
       "    <div class=\"bk-plotdiv\" id=\"dc499ad8-5eab-49c8-8155-71939f3a2851\"></div>\n",
       "</div>"
      ]
     },
     "metadata": {},
     "output_type": "display_data"
    },
    {
     "data": {
      "application/javascript": [
       "(function(root) {\n",
       "  function embed_document(root) {\n",
       "    var docs_json = {\"9761a7ae-41d9-487b-a763-62db8a306b77\":{\"roots\":{\"references\":[{\"attributes\":{\"line_color\":{\"value\":\"#1f77b4\"},\"line_width\":{\"value\":2},\"x\":{\"field\":\"x\"},\"y\":{\"field\":\"y\"}},\"id\":\"4e3484f4-b84b-4b7d-912f-3c3751c867ee\",\"type\":\"Line\"},{\"attributes\":{},\"id\":\"a8dcb5ee-4a21-4942-ad37-8c7284345d07\",\"type\":\"BasicTickFormatter\"},{\"attributes\":{},\"id\":\"ac7bf5d9-9356-429f-984d-9145244c6282\",\"type\":\"BasicTickFormatter\"},{\"attributes\":{\"source\":{\"id\":\"3ee7c815-9a3d-4018-ba37-bee079eecc18\",\"type\":\"ColumnDataSource\"}},\"id\":\"f2c2dee7-5cc8-4da6-b3dd-b53ebdcd0eb3\",\"type\":\"CDSView\"},{\"attributes\":{\"below\":[{\"id\":\"7a083174-5549-4c8e-9d3b-cace0dfd6ec2\",\"type\":\"LinearAxis\"}],\"left\":[{\"id\":\"6490d2f1-0fe1-43dc-be65-e090fdbab9f9\",\"type\":\"LinearAxis\"}],\"plot_height\":100,\"plot_width\":400,\"renderers\":[{\"id\":\"7a083174-5549-4c8e-9d3b-cace0dfd6ec2\",\"type\":\"LinearAxis\"},{\"id\":\"b32796a7-769f-4211-8876-ea110fe417a3\",\"type\":\"Grid\"},{\"id\":\"6490d2f1-0fe1-43dc-be65-e090fdbab9f9\",\"type\":\"LinearAxis\"},{\"id\":\"e7b0ca77-8963-4e96-aa75-47b8d45951c7\",\"type\":\"Grid\"},{\"id\":\"5f726185-9f16-4cff-8ca9-d1ddd78387ae\",\"type\":\"BoxAnnotation\"},{\"id\":\"80331a85-5084-4d75-a8f6-44b457a0f72d\",\"type\":\"GlyphRenderer\"}],\"title\":{\"id\":\"4c876dab-64e8-4863-aed1-af88044dd4a3\",\"type\":\"Title\"},\"toolbar\":{\"id\":\"39792ee3-dbff-4d27-8ec7-d2d9f2d99888\",\"type\":\"Toolbar\"},\"x_range\":{\"id\":\"1f4bc8c4-8ba7-4c40-bfa6-396f322ff76b\",\"type\":\"DataRange1d\"},\"x_scale\":{\"id\":\"d75b5bb0-8278-4659-89c7-2e5fa3bf84a8\",\"type\":\"LinearScale\"},\"y_range\":{\"id\":\"19d2bf84-8b38-46a0-bdba-c31e407d105a\",\"type\":\"DataRange1d\"},\"y_scale\":{\"id\":\"db8aa365-c3ba-46eb-a4d7-41181b908f36\",\"type\":\"LinearScale\"}},\"id\":\"434156ec-7b72-47cc-adc0-c57f1b0857e2\",\"subtype\":\"Figure\",\"type\":\"Plot\"},{\"attributes\":{},\"id\":\"9b6851cf-bf8e-42a2-a371-4b69639d4982\",\"type\":\"ResetTool\"},{\"attributes\":{\"overlay\":{\"id\":\"5f726185-9f16-4cff-8ca9-d1ddd78387ae\",\"type\":\"BoxAnnotation\"}},\"id\":\"ecd5050d-fd3c-42da-ad6d-db8fb2e84749\",\"type\":\"BoxZoomTool\"},{\"attributes\":{\"data_source\":{\"id\":\"3ee7c815-9a3d-4018-ba37-bee079eecc18\",\"type\":\"ColumnDataSource\"},\"glyph\":{\"id\":\"4e3484f4-b84b-4b7d-912f-3c3751c867ee\",\"type\":\"Line\"},\"hover_glyph\":null,\"muted_glyph\":null,\"nonselection_glyph\":{\"id\":\"a2e53644-c52e-4c55-b3a9-9aa8a4894d61\",\"type\":\"Line\"},\"selection_glyph\":null,\"view\":{\"id\":\"f2c2dee7-5cc8-4da6-b3dd-b53ebdcd0eb3\",\"type\":\"CDSView\"}},\"id\":\"80331a85-5084-4d75-a8f6-44b457a0f72d\",\"type\":\"GlyphRenderer\"},{\"attributes\":{},\"id\":\"b8c6b232-4890-4b99-91e7-7441ea2b5c0d\",\"type\":\"PanTool\"},{\"attributes\":{\"plot\":null,\"text\":\"\"},\"id\":\"4c876dab-64e8-4863-aed1-af88044dd4a3\",\"type\":\"Title\"},{\"attributes\":{\"bottom_units\":\"screen\",\"fill_alpha\":{\"value\":0.5},\"fill_color\":{\"value\":\"lightgrey\"},\"left_units\":\"screen\",\"level\":\"overlay\",\"line_alpha\":{\"value\":1.0},\"line_color\":{\"value\":\"black\"},\"line_dash\":[4,4],\"line_width\":{\"value\":2},\"plot\":null,\"render_mode\":\"css\",\"right_units\":\"screen\",\"top_units\":\"screen\"},\"id\":\"5f726185-9f16-4cff-8ca9-d1ddd78387ae\",\"type\":\"BoxAnnotation\"},{\"attributes\":{\"callback\":null,\"column_names\":[\"x\",\"y\"],\"data\":{\"x\":{\"__ndarray__\":\"AAAAAAAAAMAFav1KgVr/vwrU+pUCtf6/ED744IMP/r8VqPUrBWr9vxoS83aGxPy/H3zwwQcf/L8k5u0MiXn7vylQ61cK1Pq/Lrrooosu+r80JObtDIn5vzmO4ziO4/i/Pvjggw8++L9DYt7OkJj3v0jM2xkS8/a/TjbZZJNN9r9SoNavFKj1v1gK1PqVAvW/XXTRRRdd9L9i3s6QmLfzv2dIzNsZEvO/bLLJJpts8r9yHMdxHMfxv3aGxLydIfG/fPDBBx988L8CtX6lQK3vvwyJeTtDYu6/Fl100UUX7b8gMW9nSMzrvywFav1Kgeq/Ntlkk0026b9ArV8pUOvnv0qBWr9SoOa/VFVVVVVV5b9eKVDrVwrkv2j9SoFav+K/dNFFF1104b9+pUCtXyngvxDzdobEvN2/JJtssskm2784Q2LezpDYv0zrVwrU+tW/ZJNNNtlk0794O0Ni3s7QvxjHcRzHccy/QBdddNFFx79oZ0jM2xnCvyBvZ0jM27m/AB988MEHr79Av1Kg1q+Uv4C/UqDWr5Q/QB988MEHrz9Ab2dIzNu5P3BnSMzbGcI/UBdddNFFxz8gx3Ecx3HMP4A7Q2LeztA/aJNNNtlk0z9Q61cK1PrVP0BDYt7OkNg/KJtssskm2z8Y83aGxLzdP4ClQK1fKeA/eNFFF1104T9s/UqBWr/iP2ApUOtXCuQ/WFVVVVVV5T9MgVq/UqDmP0StXylQ6+c/ONlkk0026T8wBWr9SoHqPyQxb2dIzOs/GF100UUX7T8QiXk7Q2LuPwS1fqVAre8/fvDBBx988D94hsS8nSHxP3Icx3Ecx/E/brLJJpts8j9oSMzbGRLzP2TezpCYt/M/XnTRRRdd9D9aCtT6lQL1P1Sg1q8UqPU/TjbZZJNN9j9KzNsZEvP2P0Ri3s6QmPc/QPjggw8++D86juM4juP4PzYk5u0Mifk/MLrooosu+j8qUOtXCtT6Pybm7QyJefs/IHzwwQcf/D8cEvN2hsT8Pxao9SsFav0/ED744IMP/j8M1PqVArX+PwZq/UqBWv8/AAAAAAAAAEA=\",\"dtype\":\"float64\",\"shape\":[100]},\"y\":{\"__ndarray__\":\"AAAAAAAA8D8AAAAAAADwPwAAAAAAAPA/AAAAAAAA8D8AAAAAAADwPwAAAAAAAPA/AAAAAAAA8D8AAAAAAADwPwAAAAAAAPA/AAAAAAAA8D8AAAAAAADwPwAAAAAAAPA/AAAAAAAA8D8AAAAAAADwPwAAAAAAAPA/AAAAAAAA8D8AAAAAAADwPwAAAAAAAPA/AAAAAAAA8D8AAAAAAADwPwAAAAAAAPA/AAAAAAAA8D8AAAAAAADwPwAAAAAAAPA/AAAAAAAA8D8AAAAAAADwPwAAAAAAAPA/AAAAAAAA8D8AAAAAAADwPwAAAAAAAPA/AAAAAAAA8D8AAAAAAADwPwAAAAAAAPA/AAAAAAAA8D8AAAAAAADwPwAAAAAAAPA/AAAAAAAA8D8AAAAAAADwPwAAAAAAAAAAAAAAAAAAAAAAAAAAAAAAAAAAAAAAAAAAAAAAAAAAAAAAAAAAAAAAAAAAAAAAAAAAAAAAAAAAAAAAAAAAAAAAAAAAAAAAAAAAAAAAAAAAAAAAAAAAAAAAAAAAAAAAAAAAAAAAAAAAAAAAAAAAAAAAAAAAAAAAAAAAAAAAAAAAAAAAAAAAAAAAAAAAAAAAAAAAAAAAAAAAAAAAAAAAAAAAAAAAAAAAAAAAAAAAAAAAAAAAAAAAAAAAAAAAAAAAAPA/AAAAAAAA8D8AAAAAAADwPwAAAAAAAPA/AAAAAAAA8D8AAAAAAADwPwAAAAAAAPA/AAAAAAAA8D8AAAAAAADwPwAAAAAAAPA/AAAAAAAA8D8AAAAAAADwPwAAAAAAAPA/AAAAAAAA8D8AAAAAAADwPwAAAAAAAPA/AAAAAAAA8D8AAAAAAADwPwAAAAAAAPA/AAAAAAAA8D8AAAAAAADwPwAAAAAAAPA/AAAAAAAA8D8AAAAAAADwPwAAAAAAAPA/AAAAAAAA8D8AAAAAAADwPwAAAAAAAPA/AAAAAAAA8D8AAAAAAADwPwAAAAAAAPA/AAAAAAAA8D8AAAAAAADwPwAAAAAAAPA/AAAAAAAA8D8AAAAAAADwPwAAAAAAAPA/AAAAAAAA8D8=\",\"dtype\":\"float64\",\"shape\":[100]}}},\"id\":\"3ee7c815-9a3d-4018-ba37-bee079eecc18\",\"type\":\"ColumnDataSource\"},{\"attributes\":{\"dimension\":1,\"plot\":{\"id\":\"434156ec-7b72-47cc-adc0-c57f1b0857e2\",\"subtype\":\"Figure\",\"type\":\"Plot\"},\"ticker\":{\"id\":\"ca6531c9-6f7e-4651-b058-005d4101b9b2\",\"type\":\"BasicTicker\"}},\"id\":\"e7b0ca77-8963-4e96-aa75-47b8d45951c7\",\"type\":\"Grid\"},{\"attributes\":{\"formatter\":{\"id\":\"ac7bf5d9-9356-429f-984d-9145244c6282\",\"type\":\"BasicTickFormatter\"},\"plot\":{\"id\":\"434156ec-7b72-47cc-adc0-c57f1b0857e2\",\"subtype\":\"Figure\",\"type\":\"Plot\"},\"ticker\":{\"id\":\"ca6531c9-6f7e-4651-b058-005d4101b9b2\",\"type\":\"BasicTicker\"}},\"id\":\"6490d2f1-0fe1-43dc-be65-e090fdbab9f9\",\"type\":\"LinearAxis\"},{\"attributes\":{},\"id\":\"eb563177-a9bb-4162-a888-52c71fb8c636\",\"type\":\"HelpTool\"},{\"attributes\":{\"plot\":{\"id\":\"434156ec-7b72-47cc-adc0-c57f1b0857e2\",\"subtype\":\"Figure\",\"type\":\"Plot\"},\"ticker\":{\"id\":\"40efc581-9bf3-418a-bc29-a0d166ea97e1\",\"type\":\"BasicTicker\"}},\"id\":\"b32796a7-769f-4211-8876-ea110fe417a3\",\"type\":\"Grid\"},{\"attributes\":{\"callback\":null},\"id\":\"19d2bf84-8b38-46a0-bdba-c31e407d105a\",\"type\":\"DataRange1d\"},{\"attributes\":{\"line_alpha\":{\"value\":0.1},\"line_color\":{\"value\":\"#1f77b4\"},\"line_width\":{\"value\":2},\"x\":{\"field\":\"x\"},\"y\":{\"field\":\"y\"}},\"id\":\"a2e53644-c52e-4c55-b3a9-9aa8a4894d61\",\"type\":\"Line\"},{\"attributes\":{},\"id\":\"ca6531c9-6f7e-4651-b058-005d4101b9b2\",\"type\":\"BasicTicker\"},{\"attributes\":{},\"id\":\"d75b5bb0-8278-4659-89c7-2e5fa3bf84a8\",\"type\":\"LinearScale\"},{\"attributes\":{\"callback\":null},\"id\":\"1f4bc8c4-8ba7-4c40-bfa6-396f322ff76b\",\"type\":\"DataRange1d\"},{\"attributes\":{},\"id\":\"b09dbca6-9654-4b6c-9273-bf77dc6feaaa\",\"type\":\"WheelZoomTool\"},{\"attributes\":{},\"id\":\"55f72d7a-c116-45ef-b621-6af124c69a68\",\"type\":\"SaveTool\"},{\"attributes\":{\"active_drag\":\"auto\",\"active_inspect\":\"auto\",\"active_scroll\":\"auto\",\"active_tap\":\"auto\",\"tools\":[{\"id\":\"b8c6b232-4890-4b99-91e7-7441ea2b5c0d\",\"type\":\"PanTool\"},{\"id\":\"b09dbca6-9654-4b6c-9273-bf77dc6feaaa\",\"type\":\"WheelZoomTool\"},{\"id\":\"ecd5050d-fd3c-42da-ad6d-db8fb2e84749\",\"type\":\"BoxZoomTool\"},{\"id\":\"55f72d7a-c116-45ef-b621-6af124c69a68\",\"type\":\"SaveTool\"},{\"id\":\"9b6851cf-bf8e-42a2-a371-4b69639d4982\",\"type\":\"ResetTool\"},{\"id\":\"eb563177-a9bb-4162-a888-52c71fb8c636\",\"type\":\"HelpTool\"}]},\"id\":\"39792ee3-dbff-4d27-8ec7-d2d9f2d99888\",\"type\":\"Toolbar\"},{\"attributes\":{\"formatter\":{\"id\":\"a8dcb5ee-4a21-4942-ad37-8c7284345d07\",\"type\":\"BasicTickFormatter\"},\"plot\":{\"id\":\"434156ec-7b72-47cc-adc0-c57f1b0857e2\",\"subtype\":\"Figure\",\"type\":\"Plot\"},\"ticker\":{\"id\":\"40efc581-9bf3-418a-bc29-a0d166ea97e1\",\"type\":\"BasicTicker\"}},\"id\":\"7a083174-5549-4c8e-9d3b-cace0dfd6ec2\",\"type\":\"LinearAxis\"},{\"attributes\":{},\"id\":\"40efc581-9bf3-418a-bc29-a0d166ea97e1\",\"type\":\"BasicTicker\"},{\"attributes\":{},\"id\":\"db8aa365-c3ba-46eb-a4d7-41181b908f36\",\"type\":\"LinearScale\"}],\"root_ids\":[\"434156ec-7b72-47cc-adc0-c57f1b0857e2\"]},\"title\":\"Bokeh Application\",\"version\":\"0.12.10\"}};\n",
       "    var render_items = [{\"docid\":\"9761a7ae-41d9-487b-a763-62db8a306b77\",\"elementid\":\"dc499ad8-5eab-49c8-8155-71939f3a2851\",\"modelid\":\"434156ec-7b72-47cc-adc0-c57f1b0857e2\"}];\n",
       "\n",
       "    root.Bokeh.embed.embed_items(docs_json, render_items);\n",
       "  }\n",
       "\n",
       "  if (root.Bokeh !== undefined) {\n",
       "    embed_document(root);\n",
       "  } else {\n",
       "    var attempts = 0;\n",
       "    var timer = setInterval(function(root) {\n",
       "      if (root.Bokeh !== undefined) {\n",
       "        embed_document(root);\n",
       "        clearInterval(timer);\n",
       "      }\n",
       "      attempts++;\n",
       "      if (attempts > 100) {\n",
       "        console.log(\"Bokeh: ERROR: Unable to embed document because BokehJS library is missing\")\n",
       "        clearInterval(timer);\n",
       "      }\n",
       "    }, 10, root)\n",
       "  }\n",
       "})(window);"
      ],
      "application/vnd.bokehjs_exec.v0+json": ""
     },
     "metadata": {
      "application/vnd.bokehjs_exec.v0+json": {
       "id": "434156ec-7b72-47cc-adc0-c57f1b0857e2"
      }
     },
     "output_type": "display_data"
    }
   ],
   "source": [
    "p = figure(plot_width=400, plot_height=100)\n",
    "p.line(x_test, labels_test, line_width=2)\n",
    "show(p)"
   ]
  },
  {
   "cell_type": "markdown",
   "metadata": {},
   "source": [
    "Gaussian process is Bayesian inference, so you can compute probabilities"
   ]
  },
  {
   "cell_type": "code",
   "execution_count": 37,
   "metadata": {},
   "outputs": [],
   "source": [
    "x_prob = np.linspace(-4.0, 4.0, num=200)\n",
    "prob = gaussProc.predict_proba(x_prob.reshape(-1,1))"
   ]
  },
  {
   "cell_type": "code",
   "execution_count": 38,
   "metadata": {},
   "outputs": [
    {
     "data": {
      "text/html": [
       "\n",
       "<div class=\"bk-root\">\n",
       "    <div class=\"bk-plotdiv\" id=\"192c090f-97ff-4209-90bb-f21c7efc6897\"></div>\n",
       "</div>"
      ]
     },
     "metadata": {},
     "output_type": "display_data"
    },
    {
     "data": {
      "application/javascript": [
       "(function(root) {\n",
       "  function embed_document(root) {\n",
       "    var docs_json = {\"bb6c8609-75a3-4202-a7bb-5d8dac058956\":{\"roots\":{\"references\":[{\"attributes\":{\"callback\":null},\"id\":\"e1e02294-d718-4560-92bd-7a2363d7e977\",\"type\":\"DataRange1d\"},{\"attributes\":{\"bottom_units\":\"screen\",\"fill_alpha\":{\"value\":0.5},\"fill_color\":{\"value\":\"lightgrey\"},\"left_units\":\"screen\",\"level\":\"overlay\",\"line_alpha\":{\"value\":1.0},\"line_color\":{\"value\":\"black\"},\"line_dash\":[4,4],\"line_width\":{\"value\":2},\"plot\":null,\"render_mode\":\"css\",\"right_units\":\"screen\",\"top_units\":\"screen\"},\"id\":\"4615c026-dc35-4cf7-9153-0e4b9d169556\",\"type\":\"BoxAnnotation\"},{\"attributes\":{\"line_color\":{\"value\":\"#1f77b4\"},\"line_width\":{\"value\":2},\"x\":{\"field\":\"x\"},\"y\":{\"field\":\"y\"}},\"id\":\"21bbcb3a-555c-4483-9efa-806b7f620aa9\",\"type\":\"Line\"},{\"attributes\":{},\"id\":\"97d08741-54a7-4b17-a73d-92365c05f6f4\",\"type\":\"SaveTool\"},{\"attributes\":{\"dimension\":1,\"plot\":{\"id\":\"4abf477d-c92f-4d48-af22-8c2bffd598b5\",\"subtype\":\"Figure\",\"type\":\"Plot\"},\"ticker\":{\"id\":\"d18258e4-5eb6-4dc4-beb0-deb87a3d220f\",\"type\":\"BasicTicker\"}},\"id\":\"5eb8bbf4-0b6e-44bd-8d83-19aa38572f4a\",\"type\":\"Grid\"},{\"attributes\":{\"plot\":null,\"text\":\"\"},\"id\":\"af9fdeb0-db79-445c-a63f-25af85f30914\",\"type\":\"Title\"},{\"attributes\":{\"formatter\":{\"id\":\"0fea5926-c9a6-48d8-941f-1db5d8589384\",\"type\":\"BasicTickFormatter\"},\"plot\":{\"id\":\"4abf477d-c92f-4d48-af22-8c2bffd598b5\",\"subtype\":\"Figure\",\"type\":\"Plot\"},\"ticker\":{\"id\":\"b95c97b3-e81e-49dd-8f5e-51bfdcca025a\",\"type\":\"BasicTicker\"}},\"id\":\"540571f2-44c3-4687-b102-538d9c6aeec6\",\"type\":\"LinearAxis\"},{\"attributes\":{},\"id\":\"aa7656ea-311a-4c24-8f5a-5a8df3fc8ab5\",\"type\":\"LinearScale\"},{\"attributes\":{},\"id\":\"b95c97b3-e81e-49dd-8f5e-51bfdcca025a\",\"type\":\"BasicTicker\"},{\"attributes\":{},\"id\":\"ccb56ddf-0b49-45f7-9435-132409641e0a\",\"type\":\"BasicTickFormatter\"},{\"attributes\":{\"plot\":{\"id\":\"4abf477d-c92f-4d48-af22-8c2bffd598b5\",\"subtype\":\"Figure\",\"type\":\"Plot\"},\"ticker\":{\"id\":\"b95c97b3-e81e-49dd-8f5e-51bfdcca025a\",\"type\":\"BasicTicker\"}},\"id\":\"e70bab02-cfc6-438f-ba4a-dc135a1a4166\",\"type\":\"Grid\"},{\"attributes\":{},\"id\":\"27b0d1bb-1c5d-401c-aee2-34a18ebe0787\",\"type\":\"ResetTool\"},{\"attributes\":{},\"id\":\"943a99c1-620b-4b1c-b63f-3988caeb741b\",\"type\":\"HelpTool\"},{\"attributes\":{\"callback\":null,\"column_names\":[\"x\",\"y\"],\"data\":{\"x\":{\"__ndarray__\":\"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\",\"dtype\":\"float64\",\"shape\":[200]},\"y\":{\"__ndarray__\":\"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\",\"dtype\":\"float64\",\"shape\":[200]}}},\"id\":\"d6721a82-a686-421c-be4f-cc7e923438af\",\"type\":\"ColumnDataSource\"},{\"attributes\":{},\"id\":\"7bb4a958-12e6-4175-8751-429e09fa5617\",\"type\":\"LinearScale\"},{\"attributes\":{\"callback\":null},\"id\":\"ec3eabd0-3bce-4db4-b984-4663d924b837\",\"type\":\"DataRange1d\"},{\"attributes\":{},\"id\":\"658e32dd-0dce-4a6c-8ded-880cb3c2ef77\",\"type\":\"WheelZoomTool\"},{\"attributes\":{\"below\":[{\"id\":\"540571f2-44c3-4687-b102-538d9c6aeec6\",\"type\":\"LinearAxis\"}],\"left\":[{\"id\":\"4b979a34-1a68-4b16-a295-91689b56a68a\",\"type\":\"LinearAxis\"}],\"plot_height\":100,\"plot_width\":400,\"renderers\":[{\"id\":\"540571f2-44c3-4687-b102-538d9c6aeec6\",\"type\":\"LinearAxis\"},{\"id\":\"e70bab02-cfc6-438f-ba4a-dc135a1a4166\",\"type\":\"Grid\"},{\"id\":\"4b979a34-1a68-4b16-a295-91689b56a68a\",\"type\":\"LinearAxis\"},{\"id\":\"5eb8bbf4-0b6e-44bd-8d83-19aa38572f4a\",\"type\":\"Grid\"},{\"id\":\"4615c026-dc35-4cf7-9153-0e4b9d169556\",\"type\":\"BoxAnnotation\"},{\"id\":\"aefe8cf8-88ac-40d1-a82d-92ef4cd3b14b\",\"type\":\"GlyphRenderer\"}],\"title\":{\"id\":\"af9fdeb0-db79-445c-a63f-25af85f30914\",\"type\":\"Title\"},\"toolbar\":{\"id\":\"d28f3560-d90a-4a68-b5e7-0aa100839fee\",\"type\":\"Toolbar\"},\"x_range\":{\"id\":\"ec3eabd0-3bce-4db4-b984-4663d924b837\",\"type\":\"DataRange1d\"},\"x_scale\":{\"id\":\"7bb4a958-12e6-4175-8751-429e09fa5617\",\"type\":\"LinearScale\"},\"y_range\":{\"id\":\"e1e02294-d718-4560-92bd-7a2363d7e977\",\"type\":\"DataRange1d\"},\"y_scale\":{\"id\":\"aa7656ea-311a-4c24-8f5a-5a8df3fc8ab5\",\"type\":\"LinearScale\"}},\"id\":\"4abf477d-c92f-4d48-af22-8c2bffd598b5\",\"subtype\":\"Figure\",\"type\":\"Plot\"},{\"attributes\":{\"line_alpha\":{\"value\":0.1},\"line_color\":{\"value\":\"#1f77b4\"},\"line_width\":{\"value\":2},\"x\":{\"field\":\"x\"},\"y\":{\"field\":\"y\"}},\"id\":\"6601edc0-11b1-4919-816c-07ac2e523e83\",\"type\":\"Line\"},{\"attributes\":{\"overlay\":{\"id\":\"4615c026-dc35-4cf7-9153-0e4b9d169556\",\"type\":\"BoxAnnotation\"}},\"id\":\"5c9c752d-c40e-4b5f-bb43-f6abd01cbe00\",\"type\":\"BoxZoomTool\"},{\"attributes\":{},\"id\":\"d18258e4-5eb6-4dc4-beb0-deb87a3d220f\",\"type\":\"BasicTicker\"},{\"attributes\":{\"active_drag\":\"auto\",\"active_inspect\":\"auto\",\"active_scroll\":\"auto\",\"active_tap\":\"auto\",\"tools\":[{\"id\":\"8a793a2a-9fbc-4c53-8fe8-af62a443aca2\",\"type\":\"PanTool\"},{\"id\":\"658e32dd-0dce-4a6c-8ded-880cb3c2ef77\",\"type\":\"WheelZoomTool\"},{\"id\":\"5c9c752d-c40e-4b5f-bb43-f6abd01cbe00\",\"type\":\"BoxZoomTool\"},{\"id\":\"97d08741-54a7-4b17-a73d-92365c05f6f4\",\"type\":\"SaveTool\"},{\"id\":\"27b0d1bb-1c5d-401c-aee2-34a18ebe0787\",\"type\":\"ResetTool\"},{\"id\":\"943a99c1-620b-4b1c-b63f-3988caeb741b\",\"type\":\"HelpTool\"}]},\"id\":\"d28f3560-d90a-4a68-b5e7-0aa100839fee\",\"type\":\"Toolbar\"},{\"attributes\":{\"source\":{\"id\":\"d6721a82-a686-421c-be4f-cc7e923438af\",\"type\":\"ColumnDataSource\"}},\"id\":\"06804cd1-14f0-41d0-9d35-589a71a7ca28\",\"type\":\"CDSView\"},{\"attributes\":{\"data_source\":{\"id\":\"d6721a82-a686-421c-be4f-cc7e923438af\",\"type\":\"ColumnDataSource\"},\"glyph\":{\"id\":\"21bbcb3a-555c-4483-9efa-806b7f620aa9\",\"type\":\"Line\"},\"hover_glyph\":null,\"muted_glyph\":null,\"nonselection_glyph\":{\"id\":\"6601edc0-11b1-4919-816c-07ac2e523e83\",\"type\":\"Line\"},\"selection_glyph\":null,\"view\":{\"id\":\"06804cd1-14f0-41d0-9d35-589a71a7ca28\",\"type\":\"CDSView\"}},\"id\":\"aefe8cf8-88ac-40d1-a82d-92ef4cd3b14b\",\"type\":\"GlyphRenderer\"},{\"attributes\":{},\"id\":\"8a793a2a-9fbc-4c53-8fe8-af62a443aca2\",\"type\":\"PanTool\"},{\"attributes\":{\"formatter\":{\"id\":\"ccb56ddf-0b49-45f7-9435-132409641e0a\",\"type\":\"BasicTickFormatter\"},\"plot\":{\"id\":\"4abf477d-c92f-4d48-af22-8c2bffd598b5\",\"subtype\":\"Figure\",\"type\":\"Plot\"},\"ticker\":{\"id\":\"d18258e4-5eb6-4dc4-beb0-deb87a3d220f\",\"type\":\"BasicTicker\"}},\"id\":\"4b979a34-1a68-4b16-a295-91689b56a68a\",\"type\":\"LinearAxis\"},{\"attributes\":{},\"id\":\"0fea5926-c9a6-48d8-941f-1db5d8589384\",\"type\":\"BasicTickFormatter\"}],\"root_ids\":[\"4abf477d-c92f-4d48-af22-8c2bffd598b5\"]},\"title\":\"Bokeh Application\",\"version\":\"0.12.10\"}};\n",
       "    var render_items = [{\"docid\":\"bb6c8609-75a3-4202-a7bb-5d8dac058956\",\"elementid\":\"192c090f-97ff-4209-90bb-f21c7efc6897\",\"modelid\":\"4abf477d-c92f-4d48-af22-8c2bffd598b5\"}];\n",
       "\n",
       "    root.Bokeh.embed.embed_items(docs_json, render_items);\n",
       "  }\n",
       "\n",
       "  if (root.Bokeh !== undefined) {\n",
       "    embed_document(root);\n",
       "  } else {\n",
       "    var attempts = 0;\n",
       "    var timer = setInterval(function(root) {\n",
       "      if (root.Bokeh !== undefined) {\n",
       "        embed_document(root);\n",
       "        clearInterval(timer);\n",
       "      }\n",
       "      attempts++;\n",
       "      if (attempts > 100) {\n",
       "        console.log(\"Bokeh: ERROR: Unable to embed document because BokehJS library is missing\")\n",
       "        clearInterval(timer);\n",
       "      }\n",
       "    }, 10, root)\n",
       "  }\n",
       "})(window);"
      ],
      "application/vnd.bokehjs_exec.v0+json": ""
     },
     "metadata": {
      "application/vnd.bokehjs_exec.v0+json": {
       "id": "4abf477d-c92f-4d48-af22-8c2bffd598b5"
      }
     },
     "output_type": "display_data"
    }
   ],
   "source": [
    "p = figure(plot_width=400, plot_height=100)\n",
    "p.line(x_prob, prob[:,1], line_width=2)\n",
    "show(p)"
   ]
  },
  {
   "cell_type": "code",
   "execution_count": null,
   "metadata": {
    "collapsed": true
   },
   "outputs": [],
   "source": []
  }
 ],
 "metadata": {
  "kernelspec": {
   "display_name": "Python 3",
   "language": "python",
   "name": "python3"
  },
  "language_info": {
   "codemirror_mode": {
    "name": "ipython",
    "version": 3
   },
   "file_extension": ".py",
   "mimetype": "text/x-python",
   "name": "python",
   "nbconvert_exporter": "python",
   "pygments_lexer": "ipython3",
   "version": "3.6.3"
  }
 },
 "nbformat": 4,
 "nbformat_minor": 2
}
